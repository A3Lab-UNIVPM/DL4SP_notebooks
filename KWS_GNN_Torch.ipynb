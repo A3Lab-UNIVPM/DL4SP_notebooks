{
  "nbformat": 4,
  "nbformat_minor": 0,
  "metadata": {
    "colab": {
      "name": "KWS_GNN_Torch.ipynb",
      "provenance": [],
      "collapsed_sections": [],
      "include_colab_link": true
    },
    "kernelspec": {
      "name": "python3",
      "display_name": "Python 3"
    },
    "language_info": {
      "name": "python"
    },
    "accelerator": "GPU"
  },
  "cells": [
    {
      "cell_type": "markdown",
      "metadata": {
        "id": "view-in-github",
        "colab_type": "text"
      },
      "source": [
        "<a href=\"https://colab.research.google.com/github/A3labmarche/DL4SP_notebooks/blob/main/KWS_GNN_Torch.ipynb\" target=\"_parent\"><img src=\"https://colab.research.google.com/assets/colab-badge.svg\" alt=\"Open In Colab\"/></a>"
      ]
    },
    {
      "cell_type": "markdown",
      "metadata": {
        "id": "x_hO4rr9NU8x"
      },
      "source": [
        "## Keyword Spotting with Graph Neural Network\n",
        "Word utterances recognition network, trained on one-second wav audio clips from [Google Speech Command](https://ai.googleblog.com/2017/08/launching-speech-commands-dataset.html) dataset.\n",
        "\n",
        "Execute the notebook with a GPU runtime.\n",
        "<br><br>\n",
        "Carlo Aironi<br>\n",
        "c.aironi@pm.univpm.it<br>\n",
        "2021"
      ]
    },
    {
      "cell_type": "markdown",
      "metadata": {
        "id": "WmHqbbW0NYWX"
      },
      "source": [
        "## Import libraries"
      ]
    },
    {
      "cell_type": "markdown",
      "metadata": {
        "id": "OsSatomrngTs"
      },
      "source": [
        "Google Colab currently doesn't include Pytorch Geometric as pre-installed package. In case of probems, see [documentation](https://pytorch-geometric.readthedocs.io/en/latest/notes/installation.html) for the updated installation commands. "
      ]
    },
    {
      "cell_type": "code",
      "metadata": {
        "colab": {
          "base_uri": "https://localhost:8080/"
        },
        "id": "PGJwpw_5XAqC",
        "outputId": "2be2c5f7-8eca-420b-a7d4-88a21978bdbf"
      },
      "source": [
        "# Install required packages. \n",
        "!pip install -q torch-scatter -f https://data.pyg.org/whl/torch-1.10.0+cu113.html\n",
        "!pip install -q torch-sparse -f https://data.pyg.org/whl/torch-1.10.0+cu113.html\n",
        "!pip install -q torch-cluster -f https://data.pyg.org/whl/torch-1.10.0+cu113.html\n",
        "!pip install -q git+https://github.com/pyg-team/pytorch_geometric.git"
      ],
      "execution_count": null,
      "outputs": [
        {
          "output_type": "stream",
          "name": "stdout",
          "text": [
            "\u001b[K     |████████████████████████████████| 7.9 MB 11.3 MB/s \n",
            "\u001b[K     |████████████████████████████████| 3.5 MB 12.4 MB/s \n",
            "\u001b[K     |████████████████████████████████| 2.3 MB 11.3 MB/s \n",
            "\u001b[K     |████████████████████████████████| 407 kB 13.0 MB/s \n",
            "\u001b[K     |████████████████████████████████| 45 kB 3.2 MB/s \n",
            "\u001b[?25h  Building wheel for torch-geometric (setup.py) ... \u001b[?25l\u001b[?25hdone\n"
          ]
        }
      ]
    },
    {
      "cell_type": "code",
      "metadata": {
        "id": "gYudAY0CMKqP"
      },
      "source": [
        "import os\n",
        "import glob\n",
        "import time\n",
        "import pandas as pd\n",
        "import numpy as np\n",
        "from sklearn.metrics import confusion_matrix\n",
        "from tqdm import tqdm\n",
        "import itertools\n",
        "\n",
        "import torch\n",
        "import torch.nn as nn\n",
        "import torch.nn.functional as F\n",
        "\n",
        "import torch_geometric.transforms as T\n",
        "from torch_geometric.nn import NNConv, graclus, max_pool, max_pool_x, global_mean_pool\n",
        "from torch_sparse import coalesce\n",
        "from torch_geometric.io import read_txt_array\n",
        "from torch_geometric.utils import normalized_cut, remove_self_loops\n",
        "from torch_geometric.data import Data, InMemoryDataset\n",
        "from torch_geometric.loader import DataLoader\n",
        "\n",
        "import matplotlib.pyplot as plt\n",
        "%matplotlib inline"
      ],
      "execution_count": null,
      "outputs": []
    },
    {
      "cell_type": "markdown",
      "metadata": {
        "id": "_OUuJx2HNcXv"
      },
      "source": [
        "## Parameters"
      ]
    },
    {
      "cell_type": "code",
      "metadata": {
        "id": "du_286UYMac4"
      },
      "source": [
        "# network global parameters\n",
        "BATCH_SIZE = 32\n",
        "EPOCHS = 250\n",
        "LEARNING_RATE = 5e-4\n",
        "\n",
        "classes = ['zero', 'one', 'two', 'three', 'four', 'five', 'six', 'seven', 'eight', 'nine']\n",
        "\n",
        "trainset_path = 'GSC10_T_hd'\n",
        "valset_path = 'GSC10_V_hd'\n",
        "saved_model = 'gnn_exp_1.pth'\n",
        "saved_perf = 'gnn_exp_1.csv'"
      ],
      "execution_count": null,
      "outputs": []
    },
    {
      "cell_type": "markdown",
      "metadata": {
        "id": "51E3wCs7ybf1"
      },
      "source": [
        "Define computation environment"
      ]
    },
    {
      "cell_type": "code",
      "metadata": {
        "colab": {
          "base_uri": "https://localhost:8080/"
        },
        "id": "g-5XPDlryYlV",
        "outputId": "f525a852-036e-4419-fed3-8128c09aadda"
      },
      "source": [
        "device = torch.device('cuda' if torch.cuda.is_available() else 'cpu')\n",
        "print(f'Available environment: {device}')"
      ],
      "execution_count": null,
      "outputs": [
        {
          "output_type": "stream",
          "name": "stdout",
          "text": [
            "Available environment: cuda\n"
          ]
        }
      ]
    },
    {
      "cell_type": "markdown",
      "metadata": {
        "id": "Y4y0G1SgNelY"
      },
      "source": [
        "## Download data"
      ]
    },
    {
      "cell_type": "code",
      "metadata": {
        "colab": {
          "base_uri": "https://localhost:8080/"
        },
        "id": "al0VKp9S4JMU",
        "outputId": "729c9afe-0e31-4f74-cca6-39e2ca0f6c51"
      },
      "source": [
        "# The data will be downloaded to a temporary folder\n",
        "!wget -nc -O data.zip \"https://drive.google.com/uc?export=download&id=1K8y7GcwYBggcwjbcbiXTWfsj9hUkiFnl\"\n",
        "!unzip -q data.zip"
      ],
      "execution_count": null,
      "outputs": [
        {
          "output_type": "stream",
          "name": "stdout",
          "text": [
            "--2021-12-13 17:49:35--  https://drive.google.com/uc?export=download&id=145WpAtTok5tJc-J5A5nUEDGHafhVqY6c\n",
            "Resolving drive.google.com (drive.google.com)... 74.125.140.138, 74.125.140.100, 74.125.140.101, ...\n",
            "Connecting to drive.google.com (drive.google.com)|74.125.140.138|:443... connected.\n",
            "HTTP request sent, awaiting response... 302 Moved Temporarily\n",
            "Location: https://doc-00-9c-docs.googleusercontent.com/docs/securesc/ha0ro937gcuc7l7deffksulhg5h7mbp1/4pdp5luojlbm43fc878ihevi65g47nta/1639417725000/03236194938607487210/*/145WpAtTok5tJc-J5A5nUEDGHafhVqY6c?e=download [following]\n",
            "Warning: wildcards not supported in HTTP.\n",
            "--2021-12-13 17:49:45--  https://doc-00-9c-docs.googleusercontent.com/docs/securesc/ha0ro937gcuc7l7deffksulhg5h7mbp1/4pdp5luojlbm43fc878ihevi65g47nta/1639417725000/03236194938607487210/*/145WpAtTok5tJc-J5A5nUEDGHafhVqY6c?e=download\n",
            "Resolving doc-00-9c-docs.googleusercontent.com (doc-00-9c-docs.googleusercontent.com)... 64.233.184.132, 2a00:1450:400c:c0b::84\n",
            "Connecting to doc-00-9c-docs.googleusercontent.com (doc-00-9c-docs.googleusercontent.com)|64.233.184.132|:443... connected.\n",
            "HTTP request sent, awaiting response... 200 OK\n",
            "Length: 15706986 (15M) [application/x-zip-compressed]\n",
            "Saving to: ‘data.zip’\n",
            "\n",
            "data.zip            100%[===================>]  14.98M  --.-KB/s    in 0.1s    \n",
            "\n",
            "2021-12-13 17:49:45 (100 MB/s) - ‘data.zip’ saved [15706986/15706986]\n",
            "\n"
          ]
        }
      ]
    },
    {
      "cell_type": "markdown",
      "metadata": {
        "id": "p3YEEgtsN2TH"
      },
      "source": [
        "## Generate graph dataset"
      ]
    },
    {
      "cell_type": "markdown",
      "metadata": {
        "id": "oAIgGtnomBeS"
      },
      "source": [
        "Here graph domain dataset is loaded."
      ]
    },
    {
      "cell_type": "code",
      "metadata": {
        "id": "Ru4LK7A8e2ST"
      },
      "source": [
        "def cat(seq):\n",
        "    seq = [item for item in seq if item is not None]\n",
        "    seq = [item.unsqueeze(-1) if item.dim() == 1 else item for item in seq]\n",
        "    return torch.cat(seq, dim=-1) if len(seq) > 0 else None"
      ],
      "execution_count": null,
      "outputs": []
    },
    {
      "cell_type": "code",
      "metadata": {
        "id": "kdeWU7pyeyPL"
      },
      "source": [
        "def split(data, batch):\n",
        "    node_slice = torch.cumsum(torch.from_numpy(np.bincount(batch)), 0)\n",
        "    node_slice = torch.cat([torch.tensor([0]), node_slice])\n",
        "\n",
        "    row, _ = data.edge_index\n",
        "    edge_slice = torch.cumsum(torch.from_numpy(np.bincount(batch[row])), 0)\n",
        "    edge_slice = torch.cat([torch.tensor([0]), edge_slice])\n",
        "\n",
        "    # Edge indices should start at zero for every graph.\n",
        "    data.edge_index -= node_slice[batch[row]].unsqueeze(0)\n",
        "    data.__num_nodes__ = torch.bincount(batch).tolist()\n",
        "\n",
        "    slices = {'edge_index': edge_slice}\n",
        "    if data.x is not None:\n",
        "        slices['x'] = node_slice\n",
        "    if data.edge_attr is not None:\n",
        "        slices['edge_attr'] = edge_slice\n",
        "    if data.y is not None:\n",
        "        if data.y.size(0) == batch.size(0):\n",
        "            slices['y'] = node_slice\n",
        "        else:\n",
        "            slices['y'] = torch.arange(0, batch[-1] + 2, dtype=torch.long)\n",
        "    if data.pos is not None:\n",
        "        slices['pos'] = node_slice\n",
        "    # if data.ts is not None:\n",
        "    #     slices['ts'] = node_slice\n",
        "\n",
        "    return data, slices"
      ],
      "execution_count": null,
      "outputs": []
    },
    {
      "cell_type": "code",
      "metadata": {
        "id": "mdzdQpAbZEyK"
      },
      "source": [
        "def read_file(folder, prefix, name, dtype=None):\n",
        "    path = os.path.join(folder, '{}_{}.txt'.format(prefix, name))\n",
        "    return read_txt_array(path, sep=',', dtype=dtype)"
      ],
      "execution_count": null,
      "outputs": []
    },
    {
      "cell_type": "code",
      "metadata": {
        "id": "8COaTx40ZMnJ"
      },
      "source": [
        "def read_wav_embed(folder, prefix):\n",
        "    files = glob.glob(os.path.join(folder, '{}_*.txt'.format(prefix)))\n",
        "    names = [f.split(os.sep)[-1][len(prefix) + 1:-4] for f in files]\n",
        "    print(names)\n",
        "    edge_index = read_file(folder, prefix, 'A', torch.long).t() - 1\n",
        "    print('Load A...')\n",
        "    batch = read_file(folder, prefix, 'graph_indicator', torch.long) - 1\n",
        "    print('Load GRAPH INDICATOR...')\n",
        "\n",
        "    node_attributes = node_labels = None\n",
        "    if 'node_attributes' in names:\n",
        "        print('Load NODE ATTRIBUTES...')\n",
        "        node_attributes = read_file(folder, prefix, 'node_attributes')\n",
        "\n",
        "    if 'node_labels' in names:\n",
        "        print('Load NODE LABELS...')\n",
        "        node_labels = read_file(folder, prefix, 'node_labels', torch.long)\n",
        "        if node_labels.dim() == 1:\n",
        "            node_labels = node_labels.unsqueeze(-1)\n",
        "        node_labels = node_labels - node_labels.min(dim=0)[0]\n",
        "        node_labels = node_labels.unbind(dim=-1)\n",
        "        node_labels = [F.one_hot(x, num_classes=-1) for x in node_labels]\n",
        "        node_labels = torch.cat(node_labels, dim=-1).to(torch.float)\n",
        "    x = cat([node_attributes, node_labels])\n",
        "\n",
        "    pos = None\n",
        "    if 'pos' in names:\n",
        "        print('Load POS...')\n",
        "        pos = read_file(folder, prefix, 'pos')\n",
        "\n",
        "    ts = None\n",
        "    if 'ts' in names:\n",
        "        print('Load TS...')\n",
        "        ts = read_file(folder, prefix, 'ts')\n",
        "\n",
        "    edge_attributes, edge_labels = None, None\n",
        "    if 'edge_attributes' in names:\n",
        "        print('Load EDGE ATTRIBUTES...')\n",
        "        edge_attributes = read_file(folder, prefix, 'edge_attributes')\n",
        "    if 'edge_labels' in names:\n",
        "        print('Load EDGE LABELS...')\n",
        "        edge_labels = read_file(folder, prefix, 'edge_labels', torch.long)\n",
        "        if edge_labels.dim() == 1:\n",
        "            edge_labels = edge_labels.unsqueeze(-1)\n",
        "        edge_labels = edge_labels - edge_labels.min(dim=0)[0]\n",
        "        edge_labels = edge_labels.unbind(dim=-1)\n",
        "        edge_labels = [F.one_hot(e, num_classes=-1) for e in edge_labels]\n",
        "        edge_labels = torch.cat(edge_labels, dim=-1).to(torch.float)\n",
        "    edge_attr = cat([edge_attributes, edge_labels])\n",
        "\n",
        "    y = None\n",
        "    if 'graph_attributes' in names:  # Regression problem.\n",
        "        print('Load GRAPH ATTRIBUTES...')\n",
        "        y = read_file(folder, prefix, 'graph_attributes')\n",
        "    elif 'graph_labels' in names:  # Classification problem.\n",
        "        print('Load GRAPH LABELS...')\n",
        "        y = read_file(folder, prefix, 'graph_labels', torch.long)\n",
        "        _, y = y.unique(sorted=True, return_inverse=True)\n",
        "\n",
        "    num_nodes = edge_index.max().item() + 1 if x is None else x.size(0)\n",
        "    edge_index, edge_attr = remove_self_loops(edge_index, edge_attr)\n",
        "    edge_index, edge_attr = coalesce(edge_index, edge_attr, num_nodes, num_nodes)\n",
        "\n",
        "    data = Data(x=x, edge_index=edge_index, edge_attr=edge_attr, y=y, pos=pos, ts=ts)\n",
        "    data, slices = split(data, batch)\n",
        "\n",
        "    return data, slices"
      ],
      "execution_count": null,
      "outputs": []
    },
    {
      "cell_type": "code",
      "metadata": {
        "id": "zi9g2nxvZRRk"
      },
      "source": [
        "class WAVDataset(InMemoryDataset):\n",
        "\n",
        "    def __init__(self, root, name, transform=None, pre_transform=None,\n",
        "                 pre_filter=None, use_node_attr=True, use_edge_attr=False,\n",
        "                 cleaned=False):\n",
        "        self.name = name\n",
        "        self.cleaned = cleaned\n",
        "        super(WAVDataset, self).__init__(root, transform, pre_transform,pre_filter)\n",
        "        self.data, self.slices = torch.load(self.processed_paths[0])\n",
        "        if self.data.x is not None and not use_node_attr:\n",
        "            num_node_attributes = self.num_node_attributes\n",
        "            self.data.x = self.data.x[:, num_node_attributes:]\n",
        "        if self.data.edge_attr is not None and not use_edge_attr:\n",
        "            num_edge_attributes = self.num_edge_attributes\n",
        "            self.data.edge_attr = self.data.edge_attr[:, num_edge_attributes:]\n",
        "\n",
        "    @property\n",
        "    def num_node_labels(self):\n",
        "        if self.data.x is None:\n",
        "            return 0\n",
        "        for i in range(self.data.x.size(1)):\n",
        "            x = self.data.x[:, i:]\n",
        "            if ((x == 0) | (x == 1)).all() and (x.sum(dim=1) == 1).all():\n",
        "                return self.data.x.size(1) - i\n",
        "        return 0\n",
        "\n",
        "    @property\n",
        "    def num_node_attributes(self):\n",
        "        if self.data.x is None:\n",
        "            return 0\n",
        "        return self.data.x.size(1) - self.num_node_labels\n",
        "\n",
        "    @property\n",
        "    def num_edge_labels(self):\n",
        "        if self.data.edge_attr is None:\n",
        "            return 0\n",
        "        for i in range(self.data.edge_attr.size(1)):\n",
        "            if self.data.edge_attr[:, i:].sum() == self.data.edge_attr.size(0):\n",
        "                return self.data.edge_attr.size(1) - i\n",
        "        return 0\n",
        "\n",
        "    @property\n",
        "    def num_edge_attributes(self):\n",
        "        if self.data.edge_attr is None:\n",
        "            return 0\n",
        "        return self.data.edge_attr.size(1) - self.num_edge_labels\n",
        "\n",
        "    @property\n",
        "    def raw_file_names(self):\n",
        "        names = ['A', 'graph_indicator']\n",
        "        return ['{}_{}.txt'.format(self.name, name) for name in names]\n",
        "\n",
        "    @property\n",
        "    def processed_file_names(self):\n",
        "        return 'data.pt'\n",
        "\n",
        "    def download(self):\n",
        "        print('Use local dataset, no need to download')\n",
        "        pass\n",
        "\n",
        "    def process(self):\n",
        "        self.data, self.slices = read_wav_embed(self.raw_dir, self.name)\n",
        "\n",
        "        if self.pre_filter is not None:\n",
        "            data_list = [self.get(idx) for idx in range(len(self))]\n",
        "            data_list = [data for data in data_list if self.pre_filter(data)]\n",
        "            self.data, self.slices = self.collate(data_list)\n",
        "\n",
        "        if self.pre_transform is not None:\n",
        "            data_list = [self.get(idx) for idx in range(len(self))]\n",
        "            data_list = [self.pre_transform(data) for data in data_list]\n",
        "            self.data, self.slices = self.collate(data_list)\n",
        "\n",
        "        torch.save((self.data, self.slices), self.processed_paths[0])\n",
        "\n",
        "    def __repr__(self):\n",
        "        return '{}({})'.format(self.name, len(self))\n"
      ],
      "execution_count": null,
      "outputs": []
    },
    {
      "cell_type": "code",
      "metadata": {
        "id": "mIK08GT-Yl9D"
      },
      "source": [
        "def data_load():\n",
        "    \"\"\"\n",
        "    Load graph data and create dataloaders\n",
        "\n",
        "    \"\"\"\n",
        "\n",
        "    # load dataset from csv files\n",
        "    print('Load new instance of dataset')\n",
        "\n",
        "    transform = T.Cartesian(cat=False)\n",
        "\n",
        "    train_dataset = WAVDataset(root = trainset_path,\n",
        "                               name = trainset_path,\n",
        "                               transform = transform,\n",
        "                               use_node_attr = True)\n",
        "\n",
        "    val_dataset = WAVDataset(root = valset_path,\n",
        "                             name = valset_path,\n",
        "                             transform = transform,\n",
        "                             use_node_attr = True)\n",
        "\n",
        "    # create dataloaders\n",
        "    train_loader = DataLoader(train_dataset, batch_size=BATCH_SIZE, shuffle=True, num_workers=2)\n",
        "    val_loader = DataLoader(val_dataset, batch_size=BATCH_SIZE, shuffle=True, num_workers=2)\n",
        "\n",
        "    return train_loader, val_loader"
      ],
      "execution_count": null,
      "outputs": []
    },
    {
      "cell_type": "markdown",
      "metadata": {
        "id": "zezAR5QmDuHU"
      },
      "source": [
        "## Network model\n",
        "\n"
      ]
    },
    {
      "cell_type": "markdown",
      "metadata": {
        "id": "-1DiAJUHYWjR"
      },
      "source": [
        "The GNN network model is defined similarly to any PyTorch model, using pre-built functions of PyTorch Geometric library.\n",
        "\n",
        "Here the __NNConv__ convolutional operator from _“Dynamic Edge-Conditioned Filters in Convolutional Neural Networks on Graphs”_ is used. It implements a spatial-based convolution described by the following message passing function:\n",
        "\n",
        "$x_{i}^{'}=\\Theta x_{i}+\\sum_{j\\in\\mathcal{N}(i)}x_{j}\\cdot h_{\\Theta}\\left( \\text{e}_{i,j} \\right)$\n",
        "\n",
        "where:\n",
        "\n",
        "- $x_{i}^{'}$ is the updated attribute vector of node $i$,\n",
        "- $x_{i}$ is the attribute vector of node $i$ at previous step,\n",
        "- $x_{j}$  $j{\\in}\\mathcal{N(i)}$ is the set of the neighboring nodes of node $i$\n",
        "- $\\Theta$ is the node-level learnable weight matrix,\n",
        "- $h_{\\theta}$ denotes a neural network, represented below by the MLPs `nn1` and `nn2`\n",
        "- $e_{i,j}$ is the _edge attribute_ between nodes $i$ and $j$, computed as the euclidean distance.\n",
        "\n",
        "Attribute space input dimension is equal to $\\mathbb{R}^{5}$, which is the number of geometric region descriptors (_Area_, _Perimeter_, _Orientation_, _Eccentricity_ and _Solidity_). Node embedding is then mapped to $\\mathbb{R}^{32}$ after the first conv layer, and to $\\mathbb{R}^{64}$ after the second one.\n",
        "\n",
        "Between each NNConv layer, a _clustering_ of nodes in pairs is performed, based on proximity in the attribute space; and then a _pooling_ which replaces each pair of nodes with just one.\n",
        "\n",
        "After the convolutional block, a _readout_ MLP with one hidden layer of 128 neurons, performs associations to class labels."
      ]
    },
    {
      "cell_type": "code",
      "metadata": {
        "id": "1uUmM90yC9si"
      },
      "source": [
        "class GNNNet(nn.Module):\n",
        "    def __init__(self):\n",
        "        super(GNNNet, self).__init__()\n",
        "        # the output of nn1 must be equal to in_chan * out_chan of the respective NNConv layer\n",
        "        nn1 = nn.Sequential(nn.Linear(3, 64), nn.ReLU(), nn.Dropout(), nn.Linear(64, 160))\n",
        "        self.conv1 = NNConv(5, 32, nn1, aggr='mean')\n",
        "\n",
        "        nn2 = nn.Sequential(nn.Linear(3, 128), nn.ReLU(), nn.Dropout(), nn.Linear(128, 2048))\n",
        "        self.conv2 = NNConv(32, 64, nn2, aggr='mean')\n",
        "\n",
        "        self.fc1 = torch.nn.Linear(64, 128)\n",
        "\n",
        "        self.fc2 = torch.nn.Linear(128, 10)\n",
        "\n",
        "    def forward(self, data):\n",
        "        \n",
        "        data.x = F.elu(self.conv1(data.x, data.edge_index, data.edge_attr))\n",
        "        weight = normalized_cut_3d(data.edge_index, data.pos)\n",
        "        cluster = graclus(data.edge_index, weight, data.x.size(0))\n",
        "        data.edge_attr = None\n",
        "        data = max_pool(cluster, data, transform = T.Cartesian(cat=False))\n",
        "\n",
        "        data.x = F.elu(self.conv2(data.x, data.edge_index, data.edge_attr))\n",
        "        weight = normalized_cut_3d(data.edge_index, data.pos)\n",
        "        cluster = graclus(data.edge_index, weight, data.x.size(0))\n",
        "        x, batch = max_pool_x(cluster, data.x, data.batch)\n",
        "\n",
        "        x = global_mean_pool(x, batch)\n",
        "\n",
        "        x = F.elu(self.fc1(x))\n",
        "        x = F.dropout(x, training=self.training)\n",
        "        x = self.fc2(x)\n",
        "        \n",
        "        return F.log_softmax(x, dim=1)\n",
        "        "
      ],
      "execution_count": null,
      "outputs": []
    },
    {
      "cell_type": "code",
      "metadata": {
        "id": "8OG9QrNaYulT"
      },
      "source": [
        "def normalized_cut_3d(edge_index, pos):\n",
        "    row, col = edge_index\n",
        "    edge_attr = torch.norm(pos[row] - pos[col], p=2, dim=1)\n",
        "    return normalized_cut(edge_index, edge_attr, num_nodes=pos.size(0))"
      ],
      "execution_count": null,
      "outputs": []
    },
    {
      "cell_type": "markdown",
      "metadata": {
        "id": "UeiyL0R-SnX2"
      },
      "source": [
        "count learnable parameters"
      ]
    },
    {
      "cell_type": "code",
      "metadata": {
        "id": "_-bGJhbiSmhB"
      },
      "source": [
        "def count_parameters(model):\n",
        "    tparam = sum(p.numel() for p in model.parameters() if p.requires_grad)\n",
        "    print(f'N. of trainable parameters: {tparam}')"
      ],
      "execution_count": null,
      "outputs": []
    },
    {
      "cell_type": "markdown",
      "metadata": {
        "id": "rlwTejw9AvFN"
      },
      "source": [
        "## Helper functions"
      ]
    },
    {
      "cell_type": "code",
      "metadata": {
        "id": "-3-fR6yFhR9y"
      },
      "source": [
        "def plot_curve(train_accs, val_accs, train_losss, val_losss):\n",
        "    plt.figure(1, figsize=[10, 6])\n",
        "\n",
        "    plt.subplot(211)\n",
        "    plt.plot(train_accs, label='Train Accuracy')\n",
        "    plt.plot(val_accs, label='Validation Accuracy')\n",
        "    plt.ylabel('Accuracy')\n",
        "    plt.xlabel('epochs')\n",
        "    # plt.ylim([0.25, 1])\n",
        "    plt.legend(loc='lower right')\n",
        "\n",
        "    plt.subplot(212)\n",
        "    plt.plot(train_losss, label='Train Loss')\n",
        "    plt.plot(val_losss, label='Validation Loss')\n",
        "    plt.ylabel('Loss')\n",
        "    plt.xlabel('epochs')\n",
        "    # plt.ylim([0.0, 2.5])\n",
        "    plt.legend(loc='upper right')\n",
        "\n",
        "    plt.tight_layout()\n",
        "    plt.show()\n",
        "\n",
        "\n",
        "def plot_cmatrix(confusion_loader, model, device, normalize):\n",
        "    # Plot normalized confusion matrix on validation set\n",
        "    model.eval()\n",
        "    datay_all = torch.tensor([], dtype=torch.int64).to(device)\n",
        "    pred_all = torch.tensor([], dtype=torch.int64).to(device)\n",
        "\n",
        "    for data in confusion_loader:\n",
        "        data = data.to(device)\n",
        "        val_outputs = model(data)\n",
        "        pred = val_outputs.max(1)[1]\n",
        "        datay_all = torch.cat((datay_all, data.y))\n",
        "        pred_all = torch.cat((pred_all, pred))\n",
        "\n",
        "    cm = confusion_matrix(datay_all.cpu(), pred_all.cpu())\n",
        "    if normalize:\n",
        "        cm = cm.astype('float') / cm.sum(axis=1)[:, np.newaxis]\n",
        "\n",
        "    plt.figure(1, figsize=[8, 8])\n",
        "    plt.imshow(cm, interpolation='nearest', cmap=plt.cm.Blues)\n",
        "    plt.title('Normalized Confusion matrix' if normalize else 'Confusion matrix')\n",
        "    plt.colorbar()\n",
        "    tick_marks = np.arange(len(classes))\n",
        "    plt.xticks(tick_marks, classes, rotation=45)\n",
        "    plt.yticks(tick_marks, classes)\n",
        "\n",
        "    fmt = '.2f' if normalize else 'd'\n",
        "    thresh = cm.max() / 2.\n",
        "    for i, j in itertools.product(range(cm.shape[0]), range(cm.shape[1])):\n",
        "        plt.text(j, i, format(cm[i, j], fmt), horizontalalignment=\"center\", color=\"white\" if cm[i, j] > thresh else \"black\")\n",
        "\n",
        "    plt.ylabel('True label')\n",
        "    plt.xlabel('Predicted label')\n",
        "    plt.tight_layout()"
      ],
      "execution_count": null,
      "outputs": []
    },
    {
      "cell_type": "markdown",
      "metadata": {
        "id": "z122cD92fzWC"
      },
      "source": [
        "## Train and Validation functions"
      ]
    },
    {
      "cell_type": "code",
      "metadata": {
        "id": "TN0VAzfYFNf0"
      },
      "source": [
        "def train(model, optimizer, criterion, train_dataload):\n",
        "    # set all network parameters to train mode\n",
        "    model.train()\n",
        "\n",
        "    total_train_loss = 0\n",
        "    total_train_acc = 0\n",
        "    correct = 0\n",
        "\n",
        "    for data in train_dataload:\n",
        "        # Send data to device: cuda or cpu\n",
        "        data = data.to(device)\n",
        "\n",
        "        # Set the parameter gradients to zero\n",
        "        optimizer.zero_grad()\n",
        "\n",
        "        # forward pass\n",
        "        train_outputs = model(data)\n",
        "        train_loss = criterion(train_outputs, data.y)\n",
        "\n",
        "        # backward propagation\n",
        "        train_loss.backward()\n",
        "\n",
        "        # optimization (update weights)\n",
        "        optimizer.step()\n",
        "\n",
        "        # accumulate loss\n",
        "        total_train_loss += train_loss.item()\n",
        "\n",
        "        # Track the train accuracy\n",
        "        _, predicted = torch.max(train_outputs.data, 1)\n",
        "        correct += (predicted == data.y).sum().item()\n",
        "\n",
        "    total_train_acc = (correct / len(train_dataload.dataset))\n",
        "    total_train_loss = (total_train_loss / len(train_dataload))\n",
        "\n",
        "    return total_train_loss, total_train_acc\n",
        "\n",
        "\n",
        "def validate(model, criterion, val_dataload):\n",
        "    # set all network parameters to no-train mode\n",
        "    model.eval()\n",
        "\n",
        "    total_val_loss = 0\n",
        "    total_val_acc = 0\n",
        "    correct = 0\n",
        "\n",
        "    with torch.no_grad():   # set the require_grad = false for validation\n",
        "\n",
        "        for data in val_dataload:\n",
        "\n",
        "            # Send data to device: cuda or cpu\n",
        "            data = data.to(device)\n",
        "\n",
        "            # forward pass\n",
        "            val_outputs = model(data)\n",
        "            val_loss = criterion(val_outputs, data.y)\n",
        "\n",
        "            # accumulate loss\n",
        "            total_val_loss += val_loss.item()\n",
        "\n",
        "            # track the validation accuracy\n",
        "            _, predicted = torch.max(val_outputs.data, 1)\n",
        "            correct += (predicted == data.y).sum().item()\n",
        "\n",
        "    total_val_acc = (correct / len(val_dataload.dataset))\n",
        "    total_val_loss = (total_val_loss / len(val_dataload))\n",
        "\n",
        "    return total_val_loss, total_val_acc\n"
      ],
      "execution_count": null,
      "outputs": []
    },
    {
      "cell_type": "markdown",
      "metadata": {
        "id": "cr2tNDKJEqu8"
      },
      "source": [
        "## Start experiment"
      ]
    },
    {
      "cell_type": "code",
      "metadata": {
        "id": "_mRlWJ44EtQz"
      },
      "source": [
        "def start_experiment(plots, cmatrix):\n",
        "\n",
        "    # define net object\n",
        "    net = GNNNet().to(device)\n",
        "\n",
        "    criterion = nn.NLLLoss()\n",
        "    # optimizer = torch.optim.SGD(net.parameters(), lr=LEARNING_RATE)\n",
        "    optimizer = torch.optim.Adam(net.parameters(), lr=LEARNING_RATE)\n",
        "\n",
        "    train_dataload, val_dataload = data_load()\n",
        "\n",
        "    print(f'Start training with {device}')\n",
        "\n",
        "    train_loss_list = []\n",
        "    val_loss_list = []\n",
        "    train_acc_list = []\n",
        "    val_acc_list = []\n",
        "\n",
        "    # get global timestamp\n",
        "    training_start_time = time.time()\n",
        "\n",
        "    for epoch in range(EPOCHS):\n",
        "        epoch_time = time.time()\n",
        "\n",
        "        # Learning rate step reduction\n",
        "        if epoch == 210:\n",
        "            for param_group in optimizer.param_groups:\n",
        "                param_group['lr'] = 2E-4\n",
        "        if epoch == 230:\n",
        "            for param_group in optimizer.param_groups:\n",
        "                param_group['lr'] = 5E-5\n",
        "\n",
        "        epoch_train_loss, epoch_train_acc = train(net, optimizer, criterion, train_dataload)\n",
        "\n",
        "        print(f'Epoch {epoch + 1}/{EPOCHS} - Train Loss: {epoch_train_loss:.3f} - Train Accuracy: {100*epoch_train_acc:.2f} % - ', end='')\n",
        "\n",
        "        # track the train loss and accuracy\n",
        "        train_loss_list.append(epoch_train_loss)\n",
        "        train_acc_list.append(epoch_train_acc)\n",
        "\n",
        "        # at the end of the epoch do a pass on the validation set\n",
        "        epoch_val_loss, epoch_val_acc = validate(net, criterion, val_dataload)\n",
        "\n",
        "        print(f'Validation Loss: {epoch_val_loss:.3f} - Validation Accuracy: {100*epoch_val_acc:.2f} % - Elapsed time: {(time.time() - epoch_time):.2f} s')\n",
        "\n",
        "        val_loss_list.append(epoch_val_loss)\n",
        "        val_acc_list.append(epoch_val_acc)\n",
        "\n",
        "    print('-' * 20)\n",
        "    print(f'Training finished, Total elapsed time {(time.time() - training_start_time):.2f} s\\n\\n')\n",
        "\n",
        "    if plots:\n",
        "        try:\n",
        "            plot_curve(train_acc_list, val_acc_list, train_loss_list, val_loss_list)\n",
        "        except Exception as e:\n",
        "            print(f'An error occurred during plot_curve execution: {e}')\n",
        "\n",
        "    print('-'*20)\n",
        "\n",
        "    if cmatrix:\n",
        "        try:\n",
        "            plot_cmatrix(val_dataload, net, device, normalize=True)\n",
        "        except Exception as e:\n",
        "            print(f'An error occurred during plot_cmatrix execution: {e}')\n",
        "\n",
        "    return train_acc_list, train_loss_list, val_acc_list, val_loss_list, net"
      ],
      "execution_count": null,
      "outputs": []
    },
    {
      "cell_type": "code",
      "metadata": {
        "colab": {
          "base_uri": "https://localhost:8080/",
          "height": 1000
        },
        "id": "a8Z6FgwUVh-E",
        "outputId": "1e3b6a42-2590-4389-f03d-56bd1f77546c"
      },
      "source": [
        "final_train_acc, final_train_loss, final_val_acc, final_val_loss, trained_net = start_experiment(plots=True, cmatrix=True)"
      ],
      "execution_count": null,
      "outputs": [
        {
          "output_type": "stream",
          "name": "stdout",
          "text": [
            "Load new instance of dataset\n",
            "['graph_labels', 'A', 'graph_indicator', 'pos', 'node_attributes']\n"
          ]
        },
        {
          "output_type": "stream",
          "name": "stderr",
          "text": [
            "Processing...\n"
          ]
        },
        {
          "output_type": "stream",
          "name": "stdout",
          "text": [
            "Load A...\n",
            "Load GRAPH INDICATOR...\n",
            "Load NODE ATTRIBUTES...\n",
            "Load POS...\n",
            "Load GRAPH LABELS...\n"
          ]
        },
        {
          "output_type": "stream",
          "name": "stderr",
          "text": [
            "Done!\n",
            "Processing...\n"
          ]
        },
        {
          "output_type": "stream",
          "name": "stdout",
          "text": [
            "['node_attributes', 'graph_labels', 'graph_indicator', 'pos', 'A']\n",
            "Load A...\n",
            "Load GRAPH INDICATOR...\n",
            "Load NODE ATTRIBUTES...\n",
            "Load POS...\n",
            "Load GRAPH LABELS...\n",
            "Start training with cuda\n"
          ]
        },
        {
          "output_type": "stream",
          "name": "stderr",
          "text": [
            "Done!\n"
          ]
        },
        {
          "output_type": "stream",
          "name": "stdout",
          "text": [
            "Epoch 1/250 - Train Loss: 2.024 - Train Accuracy: 26.03 % - Validation Loss: 1.753 - Validation Accuracy: 36.30 % - Elapsed time: 34.63 s\n",
            "Epoch 2/250 - Train Loss: 1.721 - Train Accuracy: 38.85 % - Validation Loss: 1.615 - Validation Accuracy: 42.26 % - Elapsed time: 34.45 s\n",
            "Epoch 3/250 - Train Loss: 1.614 - Train Accuracy: 43.22 % - Validation Loss: 1.467 - Validation Accuracy: 49.23 % - Elapsed time: 34.28 s\n",
            "Epoch 4/250 - Train Loss: 1.530 - Train Accuracy: 46.69 % - Validation Loss: 1.417 - Validation Accuracy: 50.59 % - Elapsed time: 34.04 s\n",
            "Epoch 5/250 - Train Loss: 1.458 - Train Accuracy: 49.33 % - Validation Loss: 1.368 - Validation Accuracy: 51.97 % - Elapsed time: 34.26 s\n",
            "Epoch 6/250 - Train Loss: 1.407 - Train Accuracy: 51.23 % - Validation Loss: 1.289 - Validation Accuracy: 55.40 % - Elapsed time: 34.11 s\n",
            "Epoch 7/250 - Train Loss: 1.363 - Train Accuracy: 53.22 % - Validation Loss: 1.257 - Validation Accuracy: 56.98 % - Elapsed time: 33.98 s\n",
            "Epoch 8/250 - Train Loss: 1.328 - Train Accuracy: 54.37 % - Validation Loss: 1.236 - Validation Accuracy: 57.03 % - Elapsed time: 33.96 s\n",
            "Epoch 9/250 - Train Loss: 1.302 - Train Accuracy: 55.47 % - Validation Loss: 1.176 - Validation Accuracy: 59.60 % - Elapsed time: 34.08 s\n",
            "Epoch 10/250 - Train Loss: 1.271 - Train Accuracy: 56.61 % - Validation Loss: 1.168 - Validation Accuracy: 59.89 % - Elapsed time: 33.61 s\n",
            "Epoch 11/250 - Train Loss: 1.248 - Train Accuracy: 57.23 % - Validation Loss: 1.130 - Validation Accuracy: 61.46 % - Elapsed time: 33.79 s\n",
            "Epoch 12/250 - Train Loss: 1.225 - Train Accuracy: 57.84 % - Validation Loss: 1.165 - Validation Accuracy: 59.85 % - Elapsed time: 33.85 s\n",
            "Epoch 13/250 - Train Loss: 1.208 - Train Accuracy: 58.95 % - Validation Loss: 1.137 - Validation Accuracy: 61.23 % - Elapsed time: 33.59 s\n",
            "Epoch 14/250 - Train Loss: 1.176 - Train Accuracy: 59.84 % - Validation Loss: 1.079 - Validation Accuracy: 62.82 % - Elapsed time: 33.62 s\n",
            "Epoch 15/250 - Train Loss: 1.175 - Train Accuracy: 59.76 % - Validation Loss: 1.065 - Validation Accuracy: 63.47 % - Elapsed time: 33.36 s\n",
            "Epoch 16/250 - Train Loss: 1.148 - Train Accuracy: 60.97 % - Validation Loss: 1.081 - Validation Accuracy: 63.76 % - Elapsed time: 33.64 s\n",
            "Epoch 17/250 - Train Loss: 1.129 - Train Accuracy: 61.97 % - Validation Loss: 1.042 - Validation Accuracy: 64.01 % - Elapsed time: 33.66 s\n",
            "Epoch 18/250 - Train Loss: 1.118 - Train Accuracy: 61.86 % - Validation Loss: 1.037 - Validation Accuracy: 65.06 % - Elapsed time: 33.49 s\n",
            "Epoch 19/250 - Train Loss: 1.112 - Train Accuracy: 61.84 % - Validation Loss: 1.033 - Validation Accuracy: 65.22 % - Elapsed time: 33.46 s\n",
            "Epoch 20/250 - Train Loss: 1.096 - Train Accuracy: 62.60 % - Validation Loss: 1.016 - Validation Accuracy: 64.60 % - Elapsed time: 33.36 s\n",
            "Epoch 21/250 - Train Loss: 1.076 - Train Accuracy: 63.58 % - Validation Loss: 1.002 - Validation Accuracy: 65.50 % - Elapsed time: 33.69 s\n",
            "Epoch 22/250 - Train Loss: 1.076 - Train Accuracy: 63.39 % - Validation Loss: 1.000 - Validation Accuracy: 65.66 % - Elapsed time: 33.57 s\n",
            "Epoch 23/250 - Train Loss: 1.059 - Train Accuracy: 64.31 % - Validation Loss: 0.965 - Validation Accuracy: 67.08 % - Elapsed time: 33.24 s\n",
            "Epoch 24/250 - Train Loss: 1.043 - Train Accuracy: 64.66 % - Validation Loss: 0.988 - Validation Accuracy: 65.64 % - Elapsed time: 33.37 s\n",
            "Epoch 25/250 - Train Loss: 1.038 - Train Accuracy: 64.48 % - Validation Loss: 1.002 - Validation Accuracy: 66.23 % - Elapsed time: 32.92 s\n",
            "Epoch 26/250 - Train Loss: 1.027 - Train Accuracy: 64.82 % - Validation Loss: 0.972 - Validation Accuracy: 66.96 % - Elapsed time: 33.03 s\n",
            "Epoch 27/250 - Train Loss: 1.018 - Train Accuracy: 65.46 % - Validation Loss: 0.963 - Validation Accuracy: 66.60 % - Elapsed time: 33.15 s\n",
            "Epoch 28/250 - Train Loss: 1.006 - Train Accuracy: 65.49 % - Validation Loss: 0.966 - Validation Accuracy: 66.85 % - Elapsed time: 33.28 s\n",
            "Epoch 29/250 - Train Loss: 0.998 - Train Accuracy: 66.00 % - Validation Loss: 0.942 - Validation Accuracy: 67.57 % - Elapsed time: 33.17 s\n",
            "Epoch 30/250 - Train Loss: 0.991 - Train Accuracy: 66.51 % - Validation Loss: 0.958 - Validation Accuracy: 67.13 % - Elapsed time: 33.33 s\n",
            "Epoch 31/250 - Train Loss: 0.976 - Train Accuracy: 66.80 % - Validation Loss: 0.927 - Validation Accuracy: 68.49 % - Elapsed time: 33.24 s\n",
            "Epoch 32/250 - Train Loss: 0.973 - Train Accuracy: 66.80 % - Validation Loss: 0.937 - Validation Accuracy: 68.86 % - Elapsed time: 33.44 s\n",
            "Epoch 33/250 - Train Loss: 0.962 - Train Accuracy: 67.39 % - Validation Loss: 0.898 - Validation Accuracy: 69.66 % - Elapsed time: 33.15 s\n",
            "Epoch 34/250 - Train Loss: 0.957 - Train Accuracy: 67.22 % - Validation Loss: 0.914 - Validation Accuracy: 69.01 % - Elapsed time: 33.34 s\n",
            "Epoch 35/250 - Train Loss: 0.951 - Train Accuracy: 67.41 % - Validation Loss: 0.911 - Validation Accuracy: 69.03 % - Elapsed time: 32.94 s\n",
            "Epoch 36/250 - Train Loss: 0.947 - Train Accuracy: 68.15 % - Validation Loss: 0.898 - Validation Accuracy: 69.51 % - Elapsed time: 32.96 s\n",
            "Epoch 37/250 - Train Loss: 0.936 - Train Accuracy: 68.25 % - Validation Loss: 0.884 - Validation Accuracy: 69.76 % - Elapsed time: 33.42 s\n",
            "Epoch 38/250 - Train Loss: 0.929 - Train Accuracy: 68.26 % - Validation Loss: 0.870 - Validation Accuracy: 70.89 % - Elapsed time: 32.95 s\n",
            "Epoch 39/250 - Train Loss: 0.933 - Train Accuracy: 68.16 % - Validation Loss: 0.886 - Validation Accuracy: 69.28 % - Elapsed time: 32.83 s\n",
            "Epoch 40/250 - Train Loss: 0.912 - Train Accuracy: 68.97 % - Validation Loss: 0.883 - Validation Accuracy: 69.78 % - Elapsed time: 32.98 s\n",
            "Epoch 41/250 - Train Loss: 0.917 - Train Accuracy: 68.69 % - Validation Loss: 0.877 - Validation Accuracy: 70.05 % - Elapsed time: 32.92 s\n",
            "Epoch 42/250 - Train Loss: 0.905 - Train Accuracy: 69.59 % - Validation Loss: 0.866 - Validation Accuracy: 70.70 % - Elapsed time: 32.95 s\n",
            "Epoch 43/250 - Train Loss: 0.894 - Train Accuracy: 69.65 % - Validation Loss: 0.857 - Validation Accuracy: 71.29 % - Elapsed time: 32.81 s\n",
            "Epoch 44/250 - Train Loss: 0.898 - Train Accuracy: 69.45 % - Validation Loss: 0.883 - Validation Accuracy: 70.22 % - Elapsed time: 33.25 s\n",
            "Epoch 45/250 - Train Loss: 0.886 - Train Accuracy: 70.03 % - Validation Loss: 0.868 - Validation Accuracy: 69.66 % - Elapsed time: 33.04 s\n",
            "Epoch 46/250 - Train Loss: 0.887 - Train Accuracy: 69.79 % - Validation Loss: 0.853 - Validation Accuracy: 70.81 % - Elapsed time: 33.22 s\n",
            "Epoch 47/250 - Train Loss: 0.884 - Train Accuracy: 69.69 % - Validation Loss: 0.851 - Validation Accuracy: 71.08 % - Elapsed time: 33.06 s\n",
            "Epoch 48/250 - Train Loss: 0.861 - Train Accuracy: 70.28 % - Validation Loss: 0.832 - Validation Accuracy: 71.89 % - Elapsed time: 32.68 s\n",
            "Epoch 49/250 - Train Loss: 0.867 - Train Accuracy: 70.37 % - Validation Loss: 0.825 - Validation Accuracy: 72.29 % - Elapsed time: 32.71 s\n",
            "Epoch 50/250 - Train Loss: 0.857 - Train Accuracy: 70.68 % - Validation Loss: 0.832 - Validation Accuracy: 71.75 % - Elapsed time: 33.03 s\n",
            "Epoch 51/250 - Train Loss: 0.861 - Train Accuracy: 70.63 % - Validation Loss: 0.838 - Validation Accuracy: 72.02 % - Elapsed time: 33.08 s\n",
            "Epoch 52/250 - Train Loss: 0.849 - Train Accuracy: 70.97 % - Validation Loss: 0.827 - Validation Accuracy: 71.94 % - Elapsed time: 33.17 s\n",
            "Epoch 53/250 - Train Loss: 0.851 - Train Accuracy: 70.83 % - Validation Loss: 0.834 - Validation Accuracy: 71.00 % - Elapsed time: 33.37 s\n",
            "Epoch 54/250 - Train Loss: 0.841 - Train Accuracy: 71.26 % - Validation Loss: 0.802 - Validation Accuracy: 73.40 % - Elapsed time: 33.39 s\n",
            "Epoch 55/250 - Train Loss: 0.834 - Train Accuracy: 71.61 % - Validation Loss: 0.811 - Validation Accuracy: 72.27 % - Elapsed time: 33.42 s\n",
            "Epoch 56/250 - Train Loss: 0.835 - Train Accuracy: 71.54 % - Validation Loss: 0.814 - Validation Accuracy: 72.46 % - Elapsed time: 33.56 s\n",
            "Epoch 57/250 - Train Loss: 0.836 - Train Accuracy: 71.31 % - Validation Loss: 0.847 - Validation Accuracy: 71.66 % - Elapsed time: 33.53 s\n",
            "Epoch 58/250 - Train Loss: 0.833 - Train Accuracy: 71.38 % - Validation Loss: 0.797 - Validation Accuracy: 73.50 % - Elapsed time: 33.17 s\n",
            "Epoch 59/250 - Train Loss: 0.820 - Train Accuracy: 71.75 % - Validation Loss: 0.803 - Validation Accuracy: 72.90 % - Elapsed time: 33.20 s\n",
            "Epoch 60/250 - Train Loss: 0.818 - Train Accuracy: 72.02 % - Validation Loss: 0.803 - Validation Accuracy: 73.09 % - Elapsed time: 33.43 s\n",
            "Epoch 61/250 - Train Loss: 0.812 - Train Accuracy: 72.42 % - Validation Loss: 0.785 - Validation Accuracy: 73.32 % - Elapsed time: 33.36 s\n",
            "Epoch 62/250 - Train Loss: 0.812 - Train Accuracy: 72.29 % - Validation Loss: 0.788 - Validation Accuracy: 72.84 % - Elapsed time: 33.36 s\n",
            "Epoch 63/250 - Train Loss: 0.806 - Train Accuracy: 72.53 % - Validation Loss: 0.807 - Validation Accuracy: 73.21 % - Elapsed time: 33.17 s\n",
            "Epoch 64/250 - Train Loss: 0.808 - Train Accuracy: 72.55 % - Validation Loss: 0.788 - Validation Accuracy: 73.67 % - Elapsed time: 33.38 s\n",
            "Epoch 65/250 - Train Loss: 0.797 - Train Accuracy: 72.89 % - Validation Loss: 0.798 - Validation Accuracy: 73.13 % - Elapsed time: 33.55 s\n",
            "Epoch 66/250 - Train Loss: 0.798 - Train Accuracy: 72.84 % - Validation Loss: 0.789 - Validation Accuracy: 74.05 % - Elapsed time: 33.35 s\n",
            "Epoch 67/250 - Train Loss: 0.792 - Train Accuracy: 72.71 % - Validation Loss: 0.774 - Validation Accuracy: 74.70 % - Elapsed time: 33.32 s\n",
            "Epoch 68/250 - Train Loss: 0.799 - Train Accuracy: 72.74 % - Validation Loss: 0.784 - Validation Accuracy: 73.69 % - Elapsed time: 32.81 s\n",
            "Epoch 69/250 - Train Loss: 0.780 - Train Accuracy: 73.20 % - Validation Loss: 0.788 - Validation Accuracy: 72.79 % - Elapsed time: 32.80 s\n",
            "Epoch 70/250 - Train Loss: 0.774 - Train Accuracy: 73.49 % - Validation Loss: 0.793 - Validation Accuracy: 73.69 % - Elapsed time: 33.08 s\n",
            "Epoch 71/250 - Train Loss: 0.781 - Train Accuracy: 73.39 % - Validation Loss: 0.775 - Validation Accuracy: 74.26 % - Elapsed time: 33.36 s\n",
            "Epoch 72/250 - Train Loss: 0.773 - Train Accuracy: 73.79 % - Validation Loss: 0.776 - Validation Accuracy: 73.57 % - Elapsed time: 33.26 s\n",
            "Epoch 73/250 - Train Loss: 0.774 - Train Accuracy: 73.77 % - Validation Loss: 0.758 - Validation Accuracy: 74.88 % - Elapsed time: 33.37 s\n",
            "Epoch 74/250 - Train Loss: 0.759 - Train Accuracy: 74.00 % - Validation Loss: 0.772 - Validation Accuracy: 74.17 % - Elapsed time: 33.87 s\n",
            "Epoch 75/250 - Train Loss: 0.759 - Train Accuracy: 74.12 % - Validation Loss: 0.764 - Validation Accuracy: 74.57 % - Elapsed time: 33.46 s\n",
            "Epoch 76/250 - Train Loss: 0.762 - Train Accuracy: 73.76 % - Validation Loss: 0.763 - Validation Accuracy: 73.69 % - Elapsed time: 33.55 s\n",
            "Epoch 77/250 - Train Loss: 0.754 - Train Accuracy: 74.25 % - Validation Loss: 0.744 - Validation Accuracy: 75.35 % - Elapsed time: 33.33 s\n",
            "Epoch 78/250 - Train Loss: 0.753 - Train Accuracy: 74.29 % - Validation Loss: 0.765 - Validation Accuracy: 74.65 % - Elapsed time: 33.56 s\n",
            "Epoch 79/250 - Train Loss: 0.750 - Train Accuracy: 74.31 % - Validation Loss: 0.752 - Validation Accuracy: 74.65 % - Elapsed time: 33.48 s\n",
            "Epoch 80/250 - Train Loss: 0.747 - Train Accuracy: 74.44 % - Validation Loss: 0.739 - Validation Accuracy: 75.12 % - Elapsed time: 33.56 s\n",
            "Epoch 81/250 - Train Loss: 0.746 - Train Accuracy: 74.27 % - Validation Loss: 0.741 - Validation Accuracy: 75.32 % - Elapsed time: 33.51 s\n",
            "Epoch 82/250 - Train Loss: 0.745 - Train Accuracy: 74.83 % - Validation Loss: 0.759 - Validation Accuracy: 74.86 % - Elapsed time: 33.72 s\n",
            "Epoch 83/250 - Train Loss: 0.740 - Train Accuracy: 74.66 % - Validation Loss: 0.737 - Validation Accuracy: 75.49 % - Elapsed time: 33.60 s\n",
            "Epoch 84/250 - Train Loss: 0.735 - Train Accuracy: 75.15 % - Validation Loss: 0.742 - Validation Accuracy: 75.28 % - Elapsed time: 33.49 s\n",
            "Epoch 85/250 - Train Loss: 0.734 - Train Accuracy: 74.79 % - Validation Loss: 0.752 - Validation Accuracy: 74.28 % - Elapsed time: 33.46 s\n",
            "Epoch 86/250 - Train Loss: 0.733 - Train Accuracy: 75.03 % - Validation Loss: 0.746 - Validation Accuracy: 75.32 % - Elapsed time: 33.26 s\n",
            "Epoch 87/250 - Train Loss: 0.730 - Train Accuracy: 74.95 % - Validation Loss: 0.727 - Validation Accuracy: 75.51 % - Elapsed time: 33.30 s\n",
            "Epoch 88/250 - Train Loss: 0.723 - Train Accuracy: 75.03 % - Validation Loss: 0.764 - Validation Accuracy: 74.03 % - Elapsed time: 33.15 s\n",
            "Epoch 89/250 - Train Loss: 0.713 - Train Accuracy: 75.28 % - Validation Loss: 0.718 - Validation Accuracy: 76.35 % - Elapsed time: 33.28 s\n",
            "Epoch 90/250 - Train Loss: 0.722 - Train Accuracy: 75.59 % - Validation Loss: 0.729 - Validation Accuracy: 75.74 % - Elapsed time: 33.01 s\n",
            "Epoch 91/250 - Train Loss: 0.714 - Train Accuracy: 75.94 % - Validation Loss: 0.721 - Validation Accuracy: 75.93 % - Elapsed time: 33.22 s\n",
            "Epoch 92/250 - Train Loss: 0.722 - Train Accuracy: 75.23 % - Validation Loss: 0.726 - Validation Accuracy: 75.87 % - Elapsed time: 33.03 s\n",
            "Epoch 93/250 - Train Loss: 0.711 - Train Accuracy: 75.85 % - Validation Loss: 0.728 - Validation Accuracy: 75.95 % - Elapsed time: 33.65 s\n",
            "Epoch 94/250 - Train Loss: 0.709 - Train Accuracy: 75.71 % - Validation Loss: 0.727 - Validation Accuracy: 75.45 % - Elapsed time: 33.37 s\n",
            "Epoch 95/250 - Train Loss: 0.702 - Train Accuracy: 75.87 % - Validation Loss: 0.721 - Validation Accuracy: 75.81 % - Elapsed time: 33.05 s\n",
            "Epoch 96/250 - Train Loss: 0.698 - Train Accuracy: 76.09 % - Validation Loss: 0.720 - Validation Accuracy: 75.83 % - Elapsed time: 33.07 s\n",
            "Epoch 97/250 - Train Loss: 0.696 - Train Accuracy: 76.37 % - Validation Loss: 0.718 - Validation Accuracy: 76.04 % - Elapsed time: 33.26 s\n",
            "Epoch 98/250 - Train Loss: 0.695 - Train Accuracy: 76.32 % - Validation Loss: 0.716 - Validation Accuracy: 76.16 % - Elapsed time: 33.30 s\n",
            "Epoch 99/250 - Train Loss: 0.690 - Train Accuracy: 76.65 % - Validation Loss: 0.715 - Validation Accuracy: 76.41 % - Elapsed time: 33.21 s\n",
            "Epoch 100/250 - Train Loss: 0.694 - Train Accuracy: 76.33 % - Validation Loss: 0.736 - Validation Accuracy: 75.49 % - Elapsed time: 33.44 s\n",
            "Epoch 101/250 - Train Loss: 0.690 - Train Accuracy: 76.38 % - Validation Loss: 0.718 - Validation Accuracy: 75.81 % - Elapsed time: 33.31 s\n",
            "Epoch 102/250 - Train Loss: 0.681 - Train Accuracy: 76.64 % - Validation Loss: 0.712 - Validation Accuracy: 76.16 % - Elapsed time: 33.58 s\n",
            "Epoch 103/250 - Train Loss: 0.686 - Train Accuracy: 76.26 % - Validation Loss: 0.711 - Validation Accuracy: 76.54 % - Elapsed time: 33.30 s\n",
            "Epoch 104/250 - Train Loss: 0.680 - Train Accuracy: 76.81 % - Validation Loss: 0.707 - Validation Accuracy: 76.50 % - Elapsed time: 33.34 s\n",
            "Epoch 105/250 - Train Loss: 0.674 - Train Accuracy: 76.60 % - Validation Loss: 0.723 - Validation Accuracy: 75.76 % - Elapsed time: 33.27 s\n",
            "Epoch 106/250 - Train Loss: 0.677 - Train Accuracy: 76.72 % - Validation Loss: 0.723 - Validation Accuracy: 75.66 % - Elapsed time: 33.22 s\n",
            "Epoch 107/250 - Train Loss: 0.680 - Train Accuracy: 76.74 % - Validation Loss: 0.716 - Validation Accuracy: 76.08 % - Elapsed time: 33.25 s\n",
            "Epoch 108/250 - Train Loss: 0.672 - Train Accuracy: 76.82 % - Validation Loss: 0.717 - Validation Accuracy: 76.62 % - Elapsed time: 33.34 s\n",
            "Epoch 109/250 - Train Loss: 0.675 - Train Accuracy: 76.79 % - Validation Loss: 0.772 - Validation Accuracy: 75.03 % - Elapsed time: 33.42 s\n",
            "Epoch 110/250 - Train Loss: 0.672 - Train Accuracy: 77.01 % - Validation Loss: 0.718 - Validation Accuracy: 76.24 % - Elapsed time: 33.46 s\n",
            "Epoch 111/250 - Train Loss: 0.667 - Train Accuracy: 77.25 % - Validation Loss: 0.706 - Validation Accuracy: 76.12 % - Elapsed time: 33.61 s\n",
            "Epoch 112/250 - Train Loss: 0.664 - Train Accuracy: 76.92 % - Validation Loss: 0.711 - Validation Accuracy: 76.01 % - Elapsed time: 33.64 s\n",
            "Epoch 113/250 - Train Loss: 0.663 - Train Accuracy: 77.14 % - Validation Loss: 0.696 - Validation Accuracy: 76.68 % - Elapsed time: 34.05 s\n",
            "Epoch 114/250 - Train Loss: 0.667 - Train Accuracy: 77.32 % - Validation Loss: 0.697 - Validation Accuracy: 76.81 % - Elapsed time: 33.55 s\n",
            "Epoch 115/250 - Train Loss: 0.664 - Train Accuracy: 77.24 % - Validation Loss: 0.697 - Validation Accuracy: 77.21 % - Elapsed time: 33.37 s\n",
            "Epoch 116/250 - Train Loss: 0.650 - Train Accuracy: 77.85 % - Validation Loss: 0.701 - Validation Accuracy: 76.45 % - Elapsed time: 33.70 s\n",
            "Epoch 117/250 - Train Loss: 0.654 - Train Accuracy: 77.34 % - Validation Loss: 0.694 - Validation Accuracy: 76.93 % - Elapsed time: 33.45 s\n",
            "Epoch 118/250 - Train Loss: 0.657 - Train Accuracy: 77.39 % - Validation Loss: 0.694 - Validation Accuracy: 76.85 % - Elapsed time: 33.36 s\n",
            "Epoch 119/250 - Train Loss: 0.653 - Train Accuracy: 77.58 % - Validation Loss: 0.693 - Validation Accuracy: 76.70 % - Elapsed time: 33.53 s\n",
            "Epoch 120/250 - Train Loss: 0.653 - Train Accuracy: 77.58 % - Validation Loss: 0.704 - Validation Accuracy: 76.98 % - Elapsed time: 33.37 s\n",
            "Epoch 121/250 - Train Loss: 0.646 - Train Accuracy: 77.65 % - Validation Loss: 0.709 - Validation Accuracy: 76.68 % - Elapsed time: 33.58 s\n",
            "Epoch 122/250 - Train Loss: 0.645 - Train Accuracy: 77.88 % - Validation Loss: 0.685 - Validation Accuracy: 77.33 % - Elapsed time: 33.27 s\n",
            "Epoch 123/250 - Train Loss: 0.642 - Train Accuracy: 77.86 % - Validation Loss: 0.691 - Validation Accuracy: 77.44 % - Elapsed time: 33.06 s\n",
            "Epoch 124/250 - Train Loss: 0.648 - Train Accuracy: 77.71 % - Validation Loss: 0.688 - Validation Accuracy: 77.00 % - Elapsed time: 33.00 s\n",
            "Epoch 125/250 - Train Loss: 0.639 - Train Accuracy: 78.12 % - Validation Loss: 0.696 - Validation Accuracy: 76.87 % - Elapsed time: 33.24 s\n",
            "Epoch 126/250 - Train Loss: 0.640 - Train Accuracy: 78.17 % - Validation Loss: 0.698 - Validation Accuracy: 76.58 % - Elapsed time: 33.27 s\n",
            "Epoch 127/250 - Train Loss: 0.645 - Train Accuracy: 78.01 % - Validation Loss: 0.697 - Validation Accuracy: 77.16 % - Elapsed time: 33.23 s\n",
            "Epoch 128/250 - Train Loss: 0.631 - Train Accuracy: 78.23 % - Validation Loss: 0.694 - Validation Accuracy: 77.27 % - Elapsed time: 33.33 s\n",
            "Epoch 129/250 - Train Loss: 0.635 - Train Accuracy: 78.16 % - Validation Loss: 0.739 - Validation Accuracy: 75.95 % - Elapsed time: 33.43 s\n",
            "Epoch 130/250 - Train Loss: 0.633 - Train Accuracy: 78.13 % - Validation Loss: 0.698 - Validation Accuracy: 76.83 % - Elapsed time: 33.95 s\n",
            "Epoch 131/250 - Train Loss: 0.633 - Train Accuracy: 78.28 % - Validation Loss: 0.680 - Validation Accuracy: 77.60 % - Elapsed time: 33.19 s\n",
            "Epoch 132/250 - Train Loss: 0.633 - Train Accuracy: 78.00 % - Validation Loss: 0.674 - Validation Accuracy: 77.73 % - Elapsed time: 33.34 s\n",
            "Epoch 133/250 - Train Loss: 0.626 - Train Accuracy: 78.60 % - Validation Loss: 0.686 - Validation Accuracy: 76.77 % - Elapsed time: 33.66 s\n",
            "Epoch 134/250 - Train Loss: 0.619 - Train Accuracy: 78.67 % - Validation Loss: 0.697 - Validation Accuracy: 76.73 % - Elapsed time: 33.64 s\n",
            "Epoch 135/250 - Train Loss: 0.625 - Train Accuracy: 78.62 % - Validation Loss: 0.677 - Validation Accuracy: 77.60 % - Elapsed time: 33.39 s\n",
            "Epoch 136/250 - Train Loss: 0.622 - Train Accuracy: 78.56 % - Validation Loss: 0.679 - Validation Accuracy: 77.73 % - Elapsed time: 33.76 s\n",
            "Epoch 137/250 - Train Loss: 0.616 - Train Accuracy: 79.14 % - Validation Loss: 0.677 - Validation Accuracy: 78.31 % - Elapsed time: 33.50 s\n",
            "Epoch 138/250 - Train Loss: 0.622 - Train Accuracy: 78.90 % - Validation Loss: 0.681 - Validation Accuracy: 77.54 % - Elapsed time: 33.63 s\n",
            "Epoch 139/250 - Train Loss: 0.618 - Train Accuracy: 78.72 % - Validation Loss: 0.704 - Validation Accuracy: 76.75 % - Elapsed time: 33.94 s\n",
            "Epoch 140/250 - Train Loss: 0.614 - Train Accuracy: 78.96 % - Validation Loss: 0.665 - Validation Accuracy: 77.79 % - Elapsed time: 33.82 s\n",
            "Epoch 141/250 - Train Loss: 0.605 - Train Accuracy: 79.20 % - Validation Loss: 0.688 - Validation Accuracy: 77.16 % - Elapsed time: 33.67 s\n",
            "Epoch 142/250 - Train Loss: 0.617 - Train Accuracy: 78.96 % - Validation Loss: 0.670 - Validation Accuracy: 77.73 % - Elapsed time: 33.45 s\n",
            "Epoch 143/250 - Train Loss: 0.614 - Train Accuracy: 79.10 % - Validation Loss: 0.679 - Validation Accuracy: 77.35 % - Elapsed time: 33.33 s\n",
            "Epoch 144/250 - Train Loss: 0.612 - Train Accuracy: 78.78 % - Validation Loss: 0.686 - Validation Accuracy: 76.91 % - Elapsed time: 33.22 s\n",
            "Epoch 145/250 - Train Loss: 0.604 - Train Accuracy: 79.41 % - Validation Loss: 0.662 - Validation Accuracy: 78.59 % - Elapsed time: 33.21 s\n",
            "Epoch 146/250 - Train Loss: 0.610 - Train Accuracy: 79.18 % - Validation Loss: 0.670 - Validation Accuracy: 77.50 % - Elapsed time: 33.32 s\n",
            "Epoch 147/250 - Train Loss: 0.603 - Train Accuracy: 79.46 % - Validation Loss: 0.675 - Validation Accuracy: 77.58 % - Elapsed time: 33.25 s\n",
            "Epoch 148/250 - Train Loss: 0.604 - Train Accuracy: 79.28 % - Validation Loss: 0.667 - Validation Accuracy: 77.69 % - Elapsed time: 33.56 s\n",
            "Epoch 149/250 - Train Loss: 0.601 - Train Accuracy: 79.17 % - Validation Loss: 0.707 - Validation Accuracy: 76.45 % - Elapsed time: 33.22 s\n",
            "Epoch 150/250 - Train Loss: 0.601 - Train Accuracy: 79.51 % - Validation Loss: 0.658 - Validation Accuracy: 78.21 % - Elapsed time: 33.39 s\n",
            "Epoch 151/250 - Train Loss: 0.596 - Train Accuracy: 79.59 % - Validation Loss: 0.672 - Validation Accuracy: 77.19 % - Elapsed time: 33.37 s\n",
            "Epoch 152/250 - Train Loss: 0.600 - Train Accuracy: 79.31 % - Validation Loss: 0.685 - Validation Accuracy: 76.83 % - Elapsed time: 33.36 s\n",
            "Epoch 153/250 - Train Loss: 0.592 - Train Accuracy: 79.56 % - Validation Loss: 0.656 - Validation Accuracy: 78.40 % - Elapsed time: 33.12 s\n",
            "Epoch 154/250 - Train Loss: 0.593 - Train Accuracy: 79.71 % - Validation Loss: 0.671 - Validation Accuracy: 77.96 % - Elapsed time: 33.07 s\n",
            "Epoch 155/250 - Train Loss: 0.597 - Train Accuracy: 79.53 % - Validation Loss: 0.667 - Validation Accuracy: 77.58 % - Elapsed time: 33.11 s\n",
            "Epoch 156/250 - Train Loss: 0.596 - Train Accuracy: 79.83 % - Validation Loss: 0.663 - Validation Accuracy: 78.17 % - Elapsed time: 33.38 s\n",
            "Epoch 157/250 - Train Loss: 0.585 - Train Accuracy: 79.89 % - Validation Loss: 0.663 - Validation Accuracy: 78.31 % - Elapsed time: 33.03 s\n",
            "Epoch 158/250 - Train Loss: 0.591 - Train Accuracy: 79.60 % - Validation Loss: 0.668 - Validation Accuracy: 77.79 % - Elapsed time: 33.36 s\n",
            "Epoch 159/250 - Train Loss: 0.586 - Train Accuracy: 79.97 % - Validation Loss: 0.663 - Validation Accuracy: 78.36 % - Elapsed time: 33.19 s\n",
            "Epoch 160/250 - Train Loss: 0.588 - Train Accuracy: 80.16 % - Validation Loss: 0.650 - Validation Accuracy: 78.63 % - Elapsed time: 33.47 s\n",
            "Epoch 161/250 - Train Loss: 0.582 - Train Accuracy: 79.98 % - Validation Loss: 0.673 - Validation Accuracy: 78.13 % - Elapsed time: 33.41 s\n",
            "Epoch 162/250 - Train Loss: 0.576 - Train Accuracy: 80.34 % - Validation Loss: 0.659 - Validation Accuracy: 78.15 % - Elapsed time: 33.25 s\n",
            "Epoch 163/250 - Train Loss: 0.579 - Train Accuracy: 80.03 % - Validation Loss: 0.662 - Validation Accuracy: 78.38 % - Elapsed time: 33.24 s\n",
            "Epoch 164/250 - Train Loss: 0.583 - Train Accuracy: 80.00 % - Validation Loss: 0.660 - Validation Accuracy: 78.23 % - Elapsed time: 33.57 s\n",
            "Epoch 165/250 - Train Loss: 0.578 - Train Accuracy: 80.27 % - Validation Loss: 0.657 - Validation Accuracy: 78.21 % - Elapsed time: 33.87 s\n",
            "Epoch 166/250 - Train Loss: 0.585 - Train Accuracy: 79.88 % - Validation Loss: 0.652 - Validation Accuracy: 78.34 % - Elapsed time: 33.87 s\n",
            "Epoch 167/250 - Train Loss: 0.569 - Train Accuracy: 80.45 % - Validation Loss: 0.659 - Validation Accuracy: 78.44 % - Elapsed time: 34.41 s\n",
            "Epoch 168/250 - Train Loss: 0.575 - Train Accuracy: 80.26 % - Validation Loss: 0.657 - Validation Accuracy: 78.36 % - Elapsed time: 33.80 s\n",
            "Epoch 169/250 - Train Loss: 0.574 - Train Accuracy: 79.98 % - Validation Loss: 0.652 - Validation Accuracy: 78.25 % - Elapsed time: 33.71 s\n",
            "Epoch 170/250 - Train Loss: 0.566 - Train Accuracy: 80.64 % - Validation Loss: 0.668 - Validation Accuracy: 78.00 % - Elapsed time: 33.74 s\n",
            "Epoch 171/250 - Train Loss: 0.580 - Train Accuracy: 80.48 % - Validation Loss: 0.660 - Validation Accuracy: 77.67 % - Elapsed time: 33.37 s\n",
            "Epoch 172/250 - Train Loss: 0.572 - Train Accuracy: 80.44 % - Validation Loss: 0.658 - Validation Accuracy: 78.17 % - Elapsed time: 33.50 s\n",
            "Epoch 173/250 - Train Loss: 0.568 - Train Accuracy: 80.69 % - Validation Loss: 0.670 - Validation Accuracy: 77.62 % - Elapsed time: 33.49 s\n",
            "Epoch 174/250 - Train Loss: 0.572 - Train Accuracy: 80.46 % - Validation Loss: 0.646 - Validation Accuracy: 78.42 % - Elapsed time: 33.86 s\n",
            "Epoch 175/250 - Train Loss: 0.563 - Train Accuracy: 80.87 % - Validation Loss: 0.652 - Validation Accuracy: 78.63 % - Elapsed time: 34.13 s\n",
            "Epoch 176/250 - Train Loss: 0.566 - Train Accuracy: 80.44 % - Validation Loss: 0.659 - Validation Accuracy: 78.54 % - Elapsed time: 33.98 s\n",
            "Epoch 177/250 - Train Loss: 0.562 - Train Accuracy: 80.68 % - Validation Loss: 0.658 - Validation Accuracy: 78.31 % - Elapsed time: 33.89 s\n",
            "Epoch 178/250 - Train Loss: 0.563 - Train Accuracy: 80.56 % - Validation Loss: 0.656 - Validation Accuracy: 78.15 % - Elapsed time: 33.86 s\n",
            "Epoch 179/250 - Train Loss: 0.565 - Train Accuracy: 80.49 % - Validation Loss: 0.667 - Validation Accuracy: 77.62 % - Elapsed time: 34.10 s\n",
            "Epoch 180/250 - Train Loss: 0.560 - Train Accuracy: 80.75 % - Validation Loss: 0.669 - Validation Accuracy: 78.04 % - Elapsed time: 33.98 s\n",
            "Epoch 181/250 - Train Loss: 0.560 - Train Accuracy: 80.75 % - Validation Loss: 0.645 - Validation Accuracy: 79.07 % - Elapsed time: 33.79 s\n",
            "Epoch 182/250 - Train Loss: 0.557 - Train Accuracy: 80.69 % - Validation Loss: 0.650 - Validation Accuracy: 78.23 % - Elapsed time: 34.02 s\n",
            "Epoch 183/250 - Train Loss: 0.548 - Train Accuracy: 81.05 % - Validation Loss: 0.664 - Validation Accuracy: 78.57 % - Elapsed time: 34.23 s\n",
            "Epoch 184/250 - Train Loss: 0.548 - Train Accuracy: 81.20 % - Validation Loss: 0.652 - Validation Accuracy: 78.42 % - Elapsed time: 34.63 s\n",
            "Epoch 185/250 - Train Loss: 0.553 - Train Accuracy: 81.19 % - Validation Loss: 0.635 - Validation Accuracy: 79.42 % - Elapsed time: 36.22 s\n",
            "Epoch 186/250 - Train Loss: 0.548 - Train Accuracy: 81.40 % - Validation Loss: 0.649 - Validation Accuracy: 78.69 % - Elapsed time: 36.18 s\n",
            "Epoch 187/250 - Train Loss: 0.554 - Train Accuracy: 80.84 % - Validation Loss: 0.649 - Validation Accuracy: 78.40 % - Elapsed time: 35.55 s\n",
            "Epoch 188/250 - Train Loss: 0.552 - Train Accuracy: 80.66 % - Validation Loss: 0.659 - Validation Accuracy: 78.59 % - Elapsed time: 35.69 s\n",
            "Epoch 189/250 - Train Loss: 0.548 - Train Accuracy: 81.20 % - Validation Loss: 0.651 - Validation Accuracy: 78.67 % - Elapsed time: 35.43 s\n",
            "Epoch 190/250 - Train Loss: 0.553 - Train Accuracy: 80.97 % - Validation Loss: 0.653 - Validation Accuracy: 78.69 % - Elapsed time: 35.53 s\n",
            "Epoch 191/250 - Train Loss: 0.547 - Train Accuracy: 81.34 % - Validation Loss: 0.659 - Validation Accuracy: 78.02 % - Elapsed time: 35.32 s\n",
            "Epoch 192/250 - Train Loss: 0.546 - Train Accuracy: 81.21 % - Validation Loss: 0.648 - Validation Accuracy: 78.36 % - Elapsed time: 35.31 s\n",
            "Epoch 193/250 - Train Loss: 0.542 - Train Accuracy: 81.22 % - Validation Loss: 0.651 - Validation Accuracy: 78.96 % - Elapsed time: 35.12 s\n",
            "Epoch 194/250 - Train Loss: 0.540 - Train Accuracy: 81.38 % - Validation Loss: 0.635 - Validation Accuracy: 79.17 % - Elapsed time: 35.58 s\n",
            "Epoch 195/250 - Train Loss: 0.546 - Train Accuracy: 81.26 % - Validation Loss: 0.650 - Validation Accuracy: 79.00 % - Elapsed time: 35.14 s\n",
            "Epoch 196/250 - Train Loss: 0.538 - Train Accuracy: 81.41 % - Validation Loss: 0.653 - Validation Accuracy: 79.03 % - Elapsed time: 35.43 s\n",
            "Epoch 197/250 - Train Loss: 0.534 - Train Accuracy: 81.51 % - Validation Loss: 0.642 - Validation Accuracy: 79.03 % - Elapsed time: 35.91 s\n",
            "Epoch 198/250 - Train Loss: 0.547 - Train Accuracy: 81.11 % - Validation Loss: 0.641 - Validation Accuracy: 79.03 % - Elapsed time: 36.02 s\n",
            "Epoch 199/250 - Train Loss: 0.545 - Train Accuracy: 81.30 % - Validation Loss: 0.666 - Validation Accuracy: 78.59 % - Elapsed time: 35.88 s\n",
            "Epoch 200/250 - Train Loss: 0.533 - Train Accuracy: 81.89 % - Validation Loss: 0.652 - Validation Accuracy: 78.67 % - Elapsed time: 35.56 s\n",
            "Epoch 201/250 - Train Loss: 0.534 - Train Accuracy: 81.53 % - Validation Loss: 0.637 - Validation Accuracy: 79.17 % - Elapsed time: 35.32 s\n",
            "Epoch 202/250 - Train Loss: 0.533 - Train Accuracy: 81.68 % - Validation Loss: 0.668 - Validation Accuracy: 78.40 % - Elapsed time: 35.65 s\n",
            "Epoch 203/250 - Train Loss: 0.537 - Train Accuracy: 81.69 % - Validation Loss: 0.652 - Validation Accuracy: 78.65 % - Elapsed time: 36.05 s\n",
            "Epoch 204/250 - Train Loss: 0.534 - Train Accuracy: 81.66 % - Validation Loss: 0.637 - Validation Accuracy: 79.23 % - Elapsed time: 35.60 s\n",
            "Epoch 205/250 - Train Loss: 0.530 - Train Accuracy: 81.71 % - Validation Loss: 0.652 - Validation Accuracy: 78.88 % - Elapsed time: 35.65 s\n",
            "Epoch 206/250 - Train Loss: 0.528 - Train Accuracy: 81.48 % - Validation Loss: 0.637 - Validation Accuracy: 79.65 % - Elapsed time: 35.16 s\n",
            "Epoch 207/250 - Train Loss: 0.527 - Train Accuracy: 81.69 % - Validation Loss: 0.654 - Validation Accuracy: 78.44 % - Elapsed time: 35.47 s\n",
            "Epoch 208/250 - Train Loss: 0.524 - Train Accuracy: 81.78 % - Validation Loss: 0.680 - Validation Accuracy: 78.29 % - Elapsed time: 35.40 s\n",
            "Epoch 209/250 - Train Loss: 0.531 - Train Accuracy: 81.35 % - Validation Loss: 0.662 - Validation Accuracy: 78.57 % - Elapsed time: 35.51 s\n",
            "Epoch 210/250 - Train Loss: 0.527 - Train Accuracy: 81.76 % - Validation Loss: 0.652 - Validation Accuracy: 79.23 % - Elapsed time: 35.55 s\n",
            "Epoch 211/250 - Train Loss: 0.500 - Train Accuracy: 82.97 % - Validation Loss: 0.632 - Validation Accuracy: 79.53 % - Elapsed time: 35.63 s\n",
            "Epoch 212/250 - Train Loss: 0.499 - Train Accuracy: 82.54 % - Validation Loss: 0.623 - Validation Accuracy: 79.78 % - Elapsed time: 35.36 s\n",
            "Epoch 213/250 - Train Loss: 0.491 - Train Accuracy: 82.81 % - Validation Loss: 0.620 - Validation Accuracy: 79.46 % - Elapsed time: 35.26 s\n",
            "Epoch 214/250 - Train Loss: 0.497 - Train Accuracy: 83.05 % - Validation Loss: 0.620 - Validation Accuracy: 79.84 % - Elapsed time: 35.26 s\n",
            "Epoch 215/250 - Train Loss: 0.500 - Train Accuracy: 82.81 % - Validation Loss: 0.620 - Validation Accuracy: 79.90 % - Elapsed time: 35.12 s\n",
            "Epoch 216/250 - Train Loss: 0.489 - Train Accuracy: 83.06 % - Validation Loss: 0.627 - Validation Accuracy: 79.21 % - Elapsed time: 35.21 s\n",
            "Epoch 217/250 - Train Loss: 0.486 - Train Accuracy: 83.03 % - Validation Loss: 0.622 - Validation Accuracy: 79.88 % - Elapsed time: 35.01 s\n",
            "Epoch 218/250 - Train Loss: 0.496 - Train Accuracy: 82.84 % - Validation Loss: 0.631 - Validation Accuracy: 79.67 % - Elapsed time: 35.08 s\n",
            "Epoch 219/250 - Train Loss: 0.487 - Train Accuracy: 83.06 % - Validation Loss: 0.624 - Validation Accuracy: 79.51 % - Elapsed time: 35.01 s\n",
            "Epoch 220/250 - Train Loss: 0.493 - Train Accuracy: 82.86 % - Validation Loss: 0.617 - Validation Accuracy: 79.86 % - Elapsed time: 35.54 s\n",
            "Epoch 221/250 - Train Loss: 0.487 - Train Accuracy: 83.34 % - Validation Loss: 0.623 - Validation Accuracy: 79.80 % - Elapsed time: 35.14 s\n",
            "Epoch 222/250 - Train Loss: 0.491 - Train Accuracy: 83.18 % - Validation Loss: 0.628 - Validation Accuracy: 79.61 % - Elapsed time: 35.21 s\n",
            "Epoch 223/250 - Train Loss: 0.486 - Train Accuracy: 83.20 % - Validation Loss: 0.624 - Validation Accuracy: 79.61 % - Elapsed time: 35.24 s\n",
            "Epoch 224/250 - Train Loss: 0.485 - Train Accuracy: 83.22 % - Validation Loss: 0.623 - Validation Accuracy: 79.72 % - Elapsed time: 35.38 s\n",
            "Epoch 225/250 - Train Loss: 0.491 - Train Accuracy: 83.04 % - Validation Loss: 0.624 - Validation Accuracy: 79.65 % - Elapsed time: 35.13 s\n",
            "Epoch 226/250 - Train Loss: 0.485 - Train Accuracy: 83.24 % - Validation Loss: 0.625 - Validation Accuracy: 79.76 % - Elapsed time: 35.14 s\n",
            "Epoch 227/250 - Train Loss: 0.487 - Train Accuracy: 83.24 % - Validation Loss: 0.627 - Validation Accuracy: 79.88 % - Elapsed time: 35.18 s\n",
            "Epoch 228/250 - Train Loss: 0.485 - Train Accuracy: 83.32 % - Validation Loss: 0.625 - Validation Accuracy: 80.15 % - Elapsed time: 35.01 s\n",
            "Epoch 229/250 - Train Loss: 0.485 - Train Accuracy: 83.14 % - Validation Loss: 0.627 - Validation Accuracy: 79.36 % - Elapsed time: 35.49 s\n",
            "Epoch 230/250 - Train Loss: 0.479 - Train Accuracy: 83.41 % - Validation Loss: 0.633 - Validation Accuracy: 79.46 % - Elapsed time: 34.70 s\n",
            "Epoch 231/250 - Train Loss: 0.471 - Train Accuracy: 83.75 % - Validation Loss: 0.618 - Validation Accuracy: 79.82 % - Elapsed time: 35.29 s\n",
            "Epoch 232/250 - Train Loss: 0.465 - Train Accuracy: 83.89 % - Validation Loss: 0.620 - Validation Accuracy: 79.80 % - Elapsed time: 35.60 s\n",
            "Epoch 233/250 - Train Loss: 0.467 - Train Accuracy: 83.74 % - Validation Loss: 0.621 - Validation Accuracy: 79.38 % - Elapsed time: 35.12 s\n",
            "Epoch 234/250 - Train Loss: 0.465 - Train Accuracy: 83.82 % - Validation Loss: 0.622 - Validation Accuracy: 79.67 % - Elapsed time: 35.44 s\n",
            "Epoch 235/250 - Train Loss: 0.464 - Train Accuracy: 84.04 % - Validation Loss: 0.620 - Validation Accuracy: 79.97 % - Elapsed time: 35.19 s\n",
            "Epoch 236/250 - Train Loss: 0.463 - Train Accuracy: 84.11 % - Validation Loss: 0.621 - Validation Accuracy: 79.59 % - Elapsed time: 35.67 s\n",
            "Epoch 237/250 - Train Loss: 0.466 - Train Accuracy: 84.04 % - Validation Loss: 0.628 - Validation Accuracy: 79.86 % - Elapsed time: 35.14 s\n",
            "Epoch 238/250 - Train Loss: 0.465 - Train Accuracy: 83.84 % - Validation Loss: 0.622 - Validation Accuracy: 79.63 % - Elapsed time: 35.58 s\n",
            "Epoch 239/250 - Train Loss: 0.464 - Train Accuracy: 83.91 % - Validation Loss: 0.620 - Validation Accuracy: 79.90 % - Elapsed time: 35.26 s\n",
            "Epoch 240/250 - Train Loss: 0.466 - Train Accuracy: 83.66 % - Validation Loss: 0.619 - Validation Accuracy: 79.82 % - Elapsed time: 35.35 s\n",
            "Epoch 241/250 - Train Loss: 0.465 - Train Accuracy: 84.07 % - Validation Loss: 0.619 - Validation Accuracy: 79.67 % - Elapsed time: 35.16 s\n",
            "Epoch 242/250 - Train Loss: 0.461 - Train Accuracy: 84.19 % - Validation Loss: 0.622 - Validation Accuracy: 79.67 % - Elapsed time: 35.08 s\n",
            "Epoch 243/250 - Train Loss: 0.467 - Train Accuracy: 83.91 % - Validation Loss: 0.620 - Validation Accuracy: 79.78 % - Elapsed time: 34.95 s\n",
            "Epoch 244/250 - Train Loss: 0.468 - Train Accuracy: 83.65 % - Validation Loss: 0.617 - Validation Accuracy: 79.90 % - Elapsed time: 34.84 s\n",
            "Epoch 245/250 - Train Loss: 0.464 - Train Accuracy: 83.92 % - Validation Loss: 0.618 - Validation Accuracy: 79.82 % - Elapsed time: 34.85 s\n",
            "Epoch 246/250 - Train Loss: 0.465 - Train Accuracy: 83.95 % - Validation Loss: 0.625 - Validation Accuracy: 79.78 % - Elapsed time: 35.09 s\n",
            "Epoch 247/250 - Train Loss: 0.459 - Train Accuracy: 84.16 % - Validation Loss: 0.621 - Validation Accuracy: 79.99 % - Elapsed time: 35.06 s\n",
            "Epoch 248/250 - Train Loss: 0.461 - Train Accuracy: 84.31 % - Validation Loss: 0.619 - Validation Accuracy: 80.03 % - Elapsed time: 34.99 s\n",
            "Epoch 249/250 - Train Loss: 0.461 - Train Accuracy: 84.09 % - Validation Loss: 0.621 - Validation Accuracy: 79.80 % - Elapsed time: 35.10 s\n",
            "Epoch 250/250 - Train Loss: 0.461 - Train Accuracy: 84.30 % - Validation Loss: 0.619 - Validation Accuracy: 79.97 % - Elapsed time: 35.24 s\n",
            "--------------------\n",
            "Training finished, Total elapsed time 8487.17 s\n",
            "\n",
            "\n"
          ]
        },
        {
          "output_type": "display_data",
          "data": {
            "image/png": "[encoded data removed]",
            "text/plain": [
              "<Figure size 720x432 with 2 Axes>"
            ]
          },
          "metadata": {
            "needs_background": "light"
          }
        },
        {
          "output_type": "stream",
          "name": "stdout",
          "text": [
            "--------------------\n"
          ]
        },
        {
          "output_type": "display_data",
          "data": {
            "image/png": "[encoded data removed]",
            "text/plain": [
              "<Figure size 576x576 with 2 Axes>"
            ]
          },
          "metadata": {
            "needs_background": "light"
          }
        }
      ]
    },
    {
      "cell_type": "markdown",
      "metadata": {
        "id": "OlhDn_R-TsME"
      },
      "source": [
        "Save performance values to csv"
      ]
    },
    {
      "cell_type": "code",
      "metadata": {
        "id": "g5feij9ZUKpD"
      },
      "source": [
        "perf_dict = {'TRAIN_ACCURACY': final_train_acc,\n",
        "             'TRAIN_LOSS': final_train_loss,\n",
        "             'VAL_ACCURACY': final_val_acc,\n",
        "             'VAL_LOSS': final_val_loss}\n",
        "\n",
        "df = pd.DataFrame(perf_dict)\n",
        "\n",
        "df.to_csv('perf.csv')"
      ],
      "execution_count": null,
      "outputs": []
    },
    {
      "cell_type": "markdown",
      "metadata": {
        "id": "onURUpjFgnKX"
      },
      "source": [
        "\n",
        "\n",
        "---\n",
        "\n"
      ]
    }
  ]
}
